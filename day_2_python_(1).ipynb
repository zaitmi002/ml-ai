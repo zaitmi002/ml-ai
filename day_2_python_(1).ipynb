{
  "nbformat": 4,
  "nbformat_minor": 0,
  "metadata": {
    "colab": {
      "provenance": [],
      "include_colab_link": true
    },
    "kernelspec": {
      "name": "python3",
      "display_name": "Python 3"
    },
    "language_info": {
      "name": "python"
    }
  },
  "cells": [
    {
      "cell_type": "markdown",
      "metadata": {
        "id": "view-in-github",
        "colab_type": "text"
      },
      "source": [
        "<a href=\"https://colab.research.google.com/github/zaitmi002/ml-ai/blob/main/day_2_python_(1).ipynb\" target=\"_parent\"><img src=\"https://colab.research.google.com/assets/colab-badge.svg\" alt=\"Open In Colab\"/></a>"
      ]
    },
    {
      "cell_type": "code",
      "execution_count": null,
      "metadata": {
        "id": "17lpWmuv6XEa"
      },
      "outputs": [],
      "source": [
        "class cat:\n",
        "  def makesound(self):\n",
        "   print(\"meow meow\")"
      ]
    },
    {
      "cell_type": "code",
      "source": [
        "kitti=cat()\n",
        "kitti.makesound()"
      ],
      "metadata": {
        "colab": {
          "base_uri": "https://localhost:8080/"
        },
        "id": "A8ucmlFaBLRY",
        "outputId": "5d48c7fb-921b-439e-aec0-f09d30b02153"
      },
      "execution_count": null,
      "outputs": [
        {
          "output_type": "stream",
          "name": "stdout",
          "text": [
            "meow meow\n"
          ]
        }
      ]
    },
    {
      "cell_type": "markdown",
      "source": [
        "# **OOPS**"
      ],
      "metadata": {
        "id": "6xvksdl3CoRC"
      }
    },
    {
      "cell_type": "code",
      "source": [
        "class student():\n",
        "  def __init__(self,name,roll_no,marks):\n",
        "    self.name=name\n",
        "    self.roll_no=roll_no\n",
        "    self.marks=marks\n",
        "\n",
        "  def result(self):\n",
        "   if self.marks>=40:\n",
        "      return 'pass'\n",
        "   else:\n",
        "      return 'fail'\n",
        "     "
      ],
      "metadata": {
        "id": "UBIGEzi-CsmR"
      },
      "execution_count": null,
      "outputs": []
    },
    {
      "cell_type": "code",
      "source": [
        "s1=student('Noel',36,40)"
      ],
      "metadata": {
        "id": "LfN1X1nBEHUh"
      },
      "execution_count": null,
      "outputs": []
    },
    {
      "cell_type": "code",
      "source": [
        "s1.marks"
      ],
      "metadata": {
        "colab": {
          "base_uri": "https://localhost:8080/"
        },
        "id": "fUIfD4LeESlN",
        "outputId": "6422cdab-9a16-4b8e-cb61-02925c50ebc2"
      },
      "execution_count": null,
      "outputs": [
        {
          "output_type": "execute_result",
          "data": {
            "text/plain": [
              "40"
            ]
          },
          "metadata": {},
          "execution_count": 24
        }
      ]
    },
    {
      "cell_type": "code",
      "source": [
        "s1.roll_no"
      ],
      "metadata": {
        "colab": {
          "base_uri": "https://localhost:8080/"
        },
        "id": "4jbG0JCxFWDP",
        "outputId": "e0a43d89-2faf-41f4-94a6-62100fbd6016"
      },
      "execution_count": null,
      "outputs": [
        {
          "output_type": "execute_result",
          "data": {
            "text/plain": [
              "36"
            ]
          },
          "metadata": {},
          "execution_count": 25
        }
      ]
    },
    {
      "cell_type": "code",
      "source": [
        "s2=student('roopak',20,38)\n",
        "s=s1.marks+s2.marks\n",
        "print(s)"
      ],
      "metadata": {
        "colab": {
          "base_uri": "https://localhost:8080/"
        },
        "id": "ri7mJPIwF_RK",
        "outputId": "68edd91c-5166-4281-da5b-40df5763545f"
      },
      "execution_count": null,
      "outputs": [
        {
          "output_type": "stream",
          "name": "stdout",
          "text": [
            "78\n"
          ]
        }
      ]
    },
    {
      "cell_type": "code",
      "source": [
        "s1.result()"
      ],
      "metadata": {
        "colab": {
          "base_uri": "https://localhost:8080/",
          "height": 36
        },
        "id": "LLc80MbXHd26",
        "outputId": "4e8a754b-dd57-48af-d282-952b3925db9c"
      },
      "execution_count": null,
      "outputs": [
        {
          "output_type": "execute_result",
          "data": {
            "text/plain": [
              "'pass'"
            ],
            "application/vnd.google.colaboratory.intrinsic+json": {
              "type": "string"
            }
          },
          "metadata": {},
          "execution_count": 27
        }
      ]
    },
    {
      "cell_type": "code",
      "source": [
        "s2.result()"
      ],
      "metadata": {
        "colab": {
          "base_uri": "https://localhost:8080/",
          "height": 36
        },
        "id": "1s_TXesuH7YZ",
        "outputId": "16b5f3be-aaa0-437a-de5d-ec593d969af9"
      },
      "execution_count": null,
      "outputs": [
        {
          "output_type": "execute_result",
          "data": {
            "text/plain": [
              "'fail'"
            ],
            "application/vnd.google.colaboratory.intrinsic+json": {
              "type": "string"
            }
          },
          "metadata": {},
          "execution_count": 28
        }
      ]
    },
    {
      "cell_type": "code",
      "source": [
        "s3=student('imtiaz',29,50)\n",
        "s4=student('adharsh',6,70)"
      ],
      "metadata": {
        "id": "SyBgjswDI9UO"
      },
      "execution_count": null,
      "outputs": []
    },
    {
      "cell_type": "code",
      "source": [
        "students_name=[s1,s2,s3,s4]"
      ],
      "metadata": {
        "id": "QmQKUKmCJQGh"
      },
      "execution_count": null,
      "outputs": []
    },
    {
      "cell_type": "code",
      "source": [
        "ps=[]\n",
        "fl=[]\n",
        "for x in students_name:\n",
        "   if(x.marks<40):\n",
        "      fl.append(x.name)\n",
        "   else:\n",
        "      ps.append(x.name)\n",
        "for i in ps:\n",
        "  print(i)"
      ],
      "metadata": {
        "colab": {
          "base_uri": "https://localhost:8080/"
        },
        "id": "jTt3fvoxOeXn",
        "outputId": "e5def584-50f9-43c8-a2a2-33dfe86f8602"
      },
      "execution_count": null,
      "outputs": [
        {
          "output_type": "stream",
          "name": "stdout",
          "text": [
            "Noel\n",
            "imtiaz\n",
            "adharsh\n"
          ]
        }
      ]
    },
    {
      "cell_type": "code",
      "source": [
        "ps=[]\n",
        "fl=[]\n",
        "for x in students_name:\n",
        "   if x.result()=='pass':\n",
        "     ps.append(x.name)\n",
        "   else:\n",
        "     fl.append(x.name)\n",
        "    "
      ],
      "metadata": {
        "id": "ZNXAZZgcNEdB"
      },
      "execution_count": null,
      "outputs": []
    },
    {
      "cell_type": "code",
      "source": [
        "print(\"Pass:\",ps)\n",
        "print(\"fail:\",fl)"
      ],
      "metadata": {
        "colab": {
          "base_uri": "https://localhost:8080/"
        },
        "id": "E-c4_0uQONJ6",
        "outputId": "2fbb6517-5ce6-42c0-a7fd-41e519de7576"
      },
      "execution_count": null,
      "outputs": [
        {
          "output_type": "stream",
          "name": "stdout",
          "text": [
            "Pass: ['Noel', 'imtiaz', 'adharsh']\n",
            "fail: ['roopak']\n"
          ]
        }
      ]
    },
    {
      "cell_type": "markdown",
      "source": [
        "# **CIRCLE**"
      ],
      "metadata": {
        "id": "SoHVjFF2WBbZ"
      }
    },
    {
      "cell_type": "code",
      "source": [
        "\n",
        "\n",
        "\n",
        "class circle():\n",
        "  def __init__(self,radius,pi):\n",
        "    self.radius=radius\n",
        "    self.pi=pi\n",
        "  def area(self):\n",
        "    return(pi*(self.radius*self.radius))\n",
        "  def perimeter(self):\n",
        "    return(2*pi*self.radius)\n"
      ],
      "metadata": {
        "id": "rIzP6je5Tq43"
      },
      "execution_count": null,
      "outputs": []
    },
    {
      "cell_type": "code",
      "source": [
        "rad=int(input(\"Enter the radius:\"))\n",
        "c1=circle(rad,3.14)\n",
        "print(\"Area:\",c1.area())\n",
        "print(\"Perimeter:\",c1.perimeter())"
      ],
      "metadata": {
        "colab": {
          "base_uri": "https://localhost:8080/"
        },
        "id": "QxBwIrjXUSF0",
        "outputId": "45277759-03c5-4266-975a-6879b278fac6"
      },
      "execution_count": null,
      "outputs": [
        {
          "output_type": "stream",
          "name": "stdout",
          "text": [
            "Enter the radius:3\n",
            "Area: 28.26\n",
            "Perimeter: 18.84\n"
          ]
        }
      ]
    },
    {
      "cell_type": "markdown",
      "source": [
        "## **ABSTRACTION**      \n",
        "The process by which data and functions are defined in such a way that only essential details can be seen and unnecessary implementations are hidden is called Data Abstraction."
      ],
      "metadata": {
        "id": "zNdRnJNHd3JN"
      }
    },
    {
      "cell_type": "code",
      "source": [
        "from abc import ABC,abstractmethod\n",
        " \n",
        "class Animal(ABC):\n",
        "  def sleep(self):\n",
        "        print(\"I am going to sleep in a while\")\n",
        " \n",
        "  @abstractmethod  #To define an abstract method in Python, use the @abstractmethod decorator\n",
        "  def sound(self):\n",
        "\t    print(\"This function is for defining the sound by any animal\")\n",
        "  pass #This keyword is used to stand in for empty code. Leaving it out will give a compilation error.\n",
        " \n",
        "class Snake(Animal):\n",
        "    def sound(self):\n",
        "        print(\"I can hiss\")\n",
        " \n",
        "class Dog(Animal):\n",
        "    def sound(self):\n",
        "        print(\"I can bark\")\n",
        " \n",
        "class Lion(Animal):\n",
        "    def sound(self):\n",
        "        print(\"I can roar\")\n",
        "       \n",
        "class Cat(Animal):\n",
        "    def sound(self):\n",
        "        print(\"I can meow\")\n"
      ],
      "metadata": {
        "id": "_MX5XSEhd5VR"
      },
      "execution_count": null,
      "outputs": []
    },
    {
      "cell_type": "code",
      "source": [
        "c=Cat()\n",
        "c.sleep()\n",
        "c.sound()\n",
        "s=Snake()\n",
        "s.sleep()\n",
        "s.sound()"
      ],
      "metadata": {
        "colab": {
          "base_uri": "https://localhost:8080/"
        },
        "id": "HkUKnXYVeHip",
        "outputId": "88c90b54-07b2-4540-a3f7-382234aec89b"
      },
      "execution_count": null,
      "outputs": [
        {
          "output_type": "stream",
          "name": "stdout",
          "text": [
            "I am going to sleep in a while\n",
            "I can meow\n",
            "I am going to sleep in a while\n",
            "I can hiss\n"
          ]
        }
      ]
    },
    {
      "cell_type": "code",
      "source": [],
      "metadata": {
        "id": "fVOCa2FK28F3"
      },
      "execution_count": null,
      "outputs": []
    }
  ]
}